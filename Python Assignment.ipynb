{
 "cells": [
  {
   "cell_type": "code",
   "execution_count": 137,
   "metadata": {},
   "outputs": [],
   "source": [
    "import re\n",
    "import json\n",
    "import numpy as np\n"
   ]
  },
  {
   "cell_type": "code",
   "execution_count": 539,
   "metadata": {},
   "outputs": [],
   "source": [
    "'''Reading the Test Name file'''\n",
    "path= input('Please enter test data file path')\n",
    "with open(str(path)) as file:\n",
    "    names = file.readlines()\n",
    "\n",
    "#/Users/ebuka/Downloads/trees.txt"
   ]
  },
  {
   "cell_type": "code",
   "execution_count": 528,
   "metadata": {},
   "outputs": [],
   "source": [
    "'''Manual value for the letter scores'''\n",
    "sorted_postional_values= {\"Q\": 1, \"Z\": 1, \"J\": 3, \"X\": 3, \"K\": 6, \"F\": 7, \"H\": 7, \"V\": 7, \"W\": 7, \"Y\": 7, \"B\": 8, \"C\": 8, \"M\": 8, \"P\": 8, \"D\": 9, \"G\": 9, \"L\": 15, \"N\": 15, \"R\": 15, \"S\": 15, \"T\": 15, \"O\": 20, \"U\": 20, \"A\": 25, \"I\": 25, \"E\": 35}"
   ]
  },
  {
   "cell_type": "code",
   "execution_count": null,
   "metadata": {},
   "outputs": [],
   "source": [
    "'''Reading, wrangling, and sorting the letter scores'''\n",
    "letters= []\n",
    "values= []\n",
    "with open('/Users/ebuka/Downloads/values.txt') as file:\n",
    "    for line in file:\n",
    "        letters.append(line.rstrip().split()[0])        # takes each line, creates a letter-value pair ['A': '25'], slice out the letter (index of 0) and append to a list: letters\n",
    "        values.append(int(line.rstrip().split()[1]))    # slices out the number (index of 1) from the letter-value pair ['A': '25'], converts to integer and append to a list: values\n",
    "postn_values = dict(zip(letters, values))               # create a dictionary from the two lists\n",
    "sorted_postn_values= dict(sorted(postn_values.items(), key=lambda x: x[1])) #sorts the dictionary, this will be necessary later in Abbreviation score.\n",
    "sorted_postn_values"
   ]
  },
  {
   "cell_type": "code",
   "execution_count": 546,
   "metadata": {},
   "outputs": [
    {
     "data": {
      "text/plain": [
       "{'Q': 1,\n",
       " 'Z': 1,\n",
       " 'J': 3,\n",
       " 'X': 3,\n",
       " 'K': 6,\n",
       " 'F': 7,\n",
       " 'H': 7,\n",
       " 'V': 7,\n",
       " 'W': 7,\n",
       " 'Y': 7,\n",
       " 'B': 8,\n",
       " 'C': 8,\n",
       " 'M': 8,\n",
       " 'P': 8,\n",
       " 'D': 9,\n",
       " 'G': 9,\n",
       " 'L': 15,\n",
       " 'N': 15,\n",
       " 'R': 15,\n",
       " 'S': 15,\n",
       " 'T': 15,\n",
       " 'O': 20,\n",
       " 'U': 20,\n",
       " 'A': 25,\n",
       " 'I': 25,\n",
       " 'E': 35}"
      ]
     },
     "execution_count": 546,
     "metadata": {},
     "output_type": "execute_result"
    }
   ],
   "source": [
    "'''Reading, wrangling, and sorting the letter scores'''\n",
    "letters= []\n",
    "values= []\n",
    "with open('/Users/ebuka/Downloads/values.txt') as file:\n",
    "    for line in file:\n",
    "        letters.append(line.rstrip().split()[0])        # takes each line, creates a letter-value pair ['A': '25'], slice out the letter (index of 0) and append to a list: letters\n",
    "        values.append(int(line.rstrip().split()[1]))    # slices out the number (index of 1) from the letter-value pair ['A': '25'], converts to integer and append to a list: values\n",
    "postn_values = dict(zip(letters, values))               # create a dictionary from the two lists\n",
    "sorted_postn_values= dict(sorted(postn_values.items(), key=lambda x: x[1])) #sorts the dictionary, this will be necessary later in Abbreviation score.\n",
    "sorted_postn_values"
   ]
  },
  {
   "cell_type": "code",
   "execution_count": 171,
   "metadata": {},
   "outputs": [],
   "source": [
    "#names= [\"Small-leaved Lime\",\"Large-leaved Lime\", \"Harold's home\",\"Almond-leaved Willow\"]\n",
    "\n"
   ]
  },
  {
   "cell_type": "code",
   "execution_count": 540,
   "metadata": {},
   "outputs": [
    {
     "name": "stdout",
     "output_type": "stream",
     "text": [
      "['ALDER', 'CRAB APPLE', 'COMMON ASH', 'SILVER BIRCH', 'DOWNY BIRCH', 'EUROPEAN BEECH', 'BOX', 'WILD CHERRY', 'BIRD CHERRY', 'BLACKTHORN', 'WYCH ELM', 'SMOOTH LEAVED ELM', 'COMMON HAWTHORN', 'MIDLAND HAWTHORN', 'COMMON HAZEL', 'EUROPEAN HORNBEAM', 'EUROPEAN HOLLY', 'COMMON JUNIPER', 'SMALL LEAVED LIME', 'LARGE LEAVED LIME', 'FIELD MAPLE', 'PEDUNCULATE OAK', 'SESSILE OAK', 'SCOTS PINE', 'ASPEN', 'BLACK POPLAR', 'EUROPEAN ROWAN', 'COMMON WHITEBEAM', 'SERVICE TREE', 'WILD SERVICE TREE', 'STRAWBERRY TREE', 'BAY WILLOW', 'CRACK WILLOW', 'WHITE WILLOW', 'ALMOND LEAVED WILLOW', 'EUROPEAN YEW', 'ALDER BUCKTHORN', 'PURGING BUCKTHORN', 'ELDER', 'COMMON DOGWOOD', 'ROCK WHITEBEAM', 'SEA BUCKTHORN', 'SPINDLE', 'SALLOW', 'GREY WILLOW', 'PURPLE WILLOW', 'COMMON OSIER', 'EARED WILLOW', 'GUELDER ROSE', 'WAYFARING TREE', 'COMMON PRIVET', 'PLOTS ELM', 'WAYFARING TREE HOME BELOW', 'AS', 'HE', 'CI YU', 'C CODE', 'HUM', 'I AM', 'I ME']\n"
     ]
    },
    {
     "data": {
      "text/plain": [
       "60"
      ]
     },
     "execution_count": 540,
     "metadata": {},
     "output_type": "execute_result"
    }
   ],
   "source": [
    "'''Separate compounded names (having special characters) and remove special characters'''\n",
    "staged_names= []\n",
    "for  name in names:\n",
    "    staged_names.append(name.upper().replace(\"'\",\"\").replace(\"\\n\",\"\"))       #.replace(\"-\",\" \")\n",
    "    cleaned_names= []\n",
    "    for name in staged_names: \n",
    "        name = re.sub('[^a-zA-Z \\n]', ' ', name)       #replace any special character with nothing ie remove special characters\n",
    "        name = re.sub('\\s+',' ', name)                   #replace multiple spaces with one\n",
    "        name = name.lstrip().rstrip()                            #remove leading and trailing spaces\n",
    "        #name = name.replace(\"  \",\" \")\n",
    "        #name= name.replace(\"  \",\" \")\n",
    "        cleaned_names.append(name)\n",
    "print(cleaned_names)\n",
    "len(cleaned_names)\n",
    "\n",
    "#re.sub('[^a-zA-Z0-9 \\n\\.]', '', name)\n",
    "\n"
   ]
  },
  {
   "cell_type": "code",
   "execution_count": 140,
   "metadata": {},
   "outputs": [],
   "source": [
    "'''Get abbreviations for three+ lettter words: Best case Scenario'''\n",
    "def WordAbbreviator(cleaned_names):\n",
    "    '''This is the best case scenario, we call the first letter of each word, where each has a score of zero, making the total zero'''\n",
    "    abbreviations= []\n",
    "    abbreviations_dic= {}\n",
    "    for name in cleaned_names:\n",
    "        words=  name.split()                    #slipt each name into words\n",
    "        if len(words)==1:                       #if the name has only one word\n",
    "            for word in words:                  #for that word\n",
    "                if len(word)<3:                 #if the word has less than 3 letters\n",
    "                    #print(len(word))\n",
    "                    abb= ''                     # it can not have a three word abbreviation, return empty \n",
    "                    abbreviations.append(abb)\n",
    "                    abbreviations_dic[name]=abb\n",
    "\n",
    "        elif len(words)>= 3:                    #if the name has 3 or more letters, then\n",
    "            abb= '' \n",
    "            for word in words:                  #for each of the words\n",
    "                abb +=word[0]                   #slice out the first letter of each word and create and abbreviation\n",
    "                abb= abb[0:3]                   #if abbreviation is longer than 3 letters, take the first three letters\n",
    "            abbreviations.append(abb)           # collate all the abbreviations into a list 'abbreviations'\n",
    "            abbreviations_dic[name]=abb\n",
    "    return(abbreviations_dic)"
   ]
  },
  {
   "cell_type": "code",
   "execution_count": 141,
   "metadata": {},
   "outputs": [
    {
     "data": {
      "text/plain": [
       "{'SMOOTH LEAVED ELM': 'SLE',\n",
       " 'SMALL LEAVED LIME': 'SLL',\n",
       " 'LARGE LEAVED LIME': 'LLL',\n",
       " 'WILD SERVICE TREE': 'WST',\n",
       " 'ALMOND LEAVED WILLOW': 'ALW',\n",
       " 'WAYFARING TREE HOME BELOW': 'WTH',\n",
       " 'AS': '',\n",
       " 'HE': ''}"
      ]
     },
     "execution_count": 141,
     "metadata": {},
     "output_type": "execute_result"
    }
   ],
   "source": [
    "output= WordAbbreviator(cleaned_names)\n",
    "output"
   ]
  },
  {
   "cell_type": "code",
   "execution_count": 609,
   "metadata": {},
   "outputs": [],
   "source": [
    "def word_least_letter_checker(theword):\n",
    "    least_letter= None                                                    #defaults least letter to the second letter in the word\n",
    "    least_letter_score= 1000                                              #corresponding score of the word\n",
    "    index_count= 0                                                        #to track index of the letter (in the word) being checked\n",
    "    running_least_score_dic= []\n",
    "\n",
    "    for letter in theword[1:]:                                      \n",
    "        index_count+=1\n",
    "        \n",
    "        if sorted_postn_values[letter] < least_letter_score or least_letter== None:              #if the current letter's score is lower than the established least score letter or there is no established least score\n",
    "            least_letter= letter\n",
    "            if index_count<=2 :                                                                   # if the index of th letter in the word is below 3, then add index to score\n",
    "                least_letter_score= sorted_postn_values[letter] + index_count           \n",
    "            elif index_count> 2:                                                                  #if above 3, add 3 to the score\n",
    "                least_letter_score= sorted_postn_values[letter] + 3 \n",
    "\n",
    "            if least_letter== theword[-1]:                                                        #if the least is the last letter(value defaults to 5), check if there is any letter with lower value than 5 and make it least\n",
    "                for letter in theword[1:-1]:\n",
    "                    if sorted_postn_values[letter] < 5:\n",
    "                        least_letter= letter                   \n",
    "                        if index_count<=3:                                                         # if the index of th letter in the word is below 3, then add index to value\n",
    "                            least_letter_score= sorted_postn_values[letter] + index_count           \n",
    "                        elif index_count<=3:\n",
    "                            least_letter_score= sorted_postn_values[letter] + 3            \n",
    "                        #least_letter_score= sorted_postn_values[letter]\n",
    "            elif sorted_postn_values[least_letter] > 5 and theword[-1]!= 'E':                      #if the least letter is greater than 5 and the last letter is NOT E (if E it defaults to 20), make the last letter the least(defaults to 5) \n",
    "                least_letter= theword[-1]\n",
    "                least_letter_score= 5\n",
    "            elif sorted_postn_values[least_letter] > 20 and theword[-1]== 'E':                     #if the least letter is greater than 20 and the last letter is E, make it the least (it defaults to 20) \n",
    "                least_letter = theword[-1]\n",
    "                least_letter_score= 20\n",
    "            # if least_letter == theword[-1] and theword[index_count]== theword[-1]:               #if it is the least letter is the last letter\n",
    "            #     if least_letter == 'E':\n",
    "            #         least_letter_score= 20\n",
    "            #         #word_least_letter_checker(theword[:-1])\n",
    "            #     else: \n",
    "            #         least_letter_score= 5\n",
    "            #         for letter in theword[:-1]:\n",
    "            #             if letter in letter_wt_scores_lower_five and sorted_postn_values[letter] < least_letter_score:\n",
    "            #                 least_letter= letter\n",
    "            #                 least_letter_score= sorted_postn_values[letter]\n",
    "            #     #least_score_tracker[theword]  = least_letter_score\n",
    "            else: \n",
    "                if index_count<=2 :                                                                   # if the index of th letter in the word is below 3, then add index to value\n",
    "                    least_letter_score= sorted_postn_values[letter] + index_count           \n",
    "                elif index_count> 2:\n",
    "                    least_letter_score= sorted_postn_values[letter] + 3                              #if the index of th letter in the word is above 3, then add 3 to value\n",
    "                #least_letter_score= sorted_postn_values[letter]                     #else, use the value of the letter as it is the least\n",
    "    return(least_letter, least_letter_score, index_count)"
   ]
  },
  {
   "cell_type": "code",
   "execution_count": 603,
   "metadata": {},
   "outputs": [],
   "source": [
    "def least_score_checker_updated(name):\n",
    "    index_count= 0\n",
    "    least_letter_tracker= {}\n",
    "    least_score_tracker= {}\n",
    "    names_split = name.split()\n",
    "    for theword in names_split:\n",
    "        print(theword)\n",
    "        least_letter, least_letter_score, index_count= word_least_letter_checker(theword)\n",
    "        least_score_tracker[theword]  = least_letter_score\n",
    "        least_letter_tracker[theword]  = least_letter\n",
    "    return (least_letter_tracker, least_score_tracker)"
   ]
  },
  {
   "cell_type": "code",
   "execution_count": 612,
   "metadata": {},
   "outputs": [
    {
     "name": "stdout",
     "output_type": "stream",
     "text": [
      "WONDER\n",
      "MAN\n",
      "WONDER\n",
      "MAN\n"
     ]
    },
    {
     "data": {
      "text/plain": [
       "({'WONDER': 'R', 'MAN': 'N'}, {'WONDER': 5, 'MAN': 5})"
      ]
     },
     "execution_count": 612,
     "metadata": {},
     "output_type": "execute_result"
    }
   ],
   "source": [
    "abbreviations_dic= {}\n",
    "least_letter_tracker, least_score_tracker= least_score_checker_updated('WONDER MAN')  #HUGHXZHYQ EEEEAEE\n",
    "least_letter_tracker, least_score_tracker\n",
    "\n",
    "abb, score= nameAbbreviator('WONDER MAN')\n",
    "abbreviations_dic['WONDER MAN']={abb: score}\n",
    "abbreviations_dic\n",
    "least_letter_tracker, least_score_tracker\n"
   ]
  },
  {
   "cell_type": "code",
   "execution_count": 517,
   "metadata": {},
   "outputs": [
    {
     "data": {
      "text/plain": [
       "'HORNBEAM'"
      ]
     },
     "execution_count": 517,
     "metadata": {},
     "output_type": "execute_result"
    }
   ],
   "source": [
    "list(least_score_tracker.keys())[(min(least_score_tracker.values()))]"
   ]
  },
  {
   "cell_type": "code",
   "execution_count": 598,
   "metadata": {},
   "outputs": [],
   "source": [
    "def nameAbbreviator(name: str)->str:\n",
    "    abb= '' \n",
    "    score= -1\n",
    "    abbreviations_dic= {}\n",
    "    words=  name.split()                                                #slipt each name into words\n",
    "    if len(words)==1:                                                   #if the name has only one word\n",
    "        for word in words:                                              #for that word\n",
    "            if len(word)<3:                                             #if the word has less than 3 letters\n",
    "                #print(len(word))\n",
    "                abb= ''                                                 # it can not have a three word abbreviation, return empty \n",
    "                score= np.nan\n",
    "                #abbreviations_dic[name]={abb: np.nan}\n",
    "            elif len(word) == 3:                                        #if a three letter word  \n",
    "                abb= word                                               #abb = the word\n",
    "                score_of_mid_letter= sorted_postn_values[word[1]]       #get the score of the middle letter\n",
    "                if abb[-1]== 'E':\n",
    "                    score= score_of_mid_letter + 20                     #score of 1st letter =0, score of E as last = 20\n",
    "                else:\n",
    "                    score= score_of_mid_letter + 5                      #score of 1st letter =0, score of last = 5\n",
    "            elif len(word)> 3:\n",
    "                abb= word[0] \n",
    "                least_letter, least_letter_score, least_index_count= word_least_letter_checker(word)        #get the least letter\n",
    "                if least_letter == word[-1]:                                                                                        #if the least is the last letter\n",
    "                    second_least_letter, second_least_letter_score, second_least_index_count= word_least_letter_checker(word[:-1])  #drop the last letter, and find the second least\n",
    "                    abb+= second_least_letter\n",
    "                    abb+= least_letter\n",
    "                    score= least_letter_score + second_least_letter_score\n",
    "                else:\n",
    "                    second_least_letter, second_least_letter_score,second_least_index_count = word_least_letter_checker(word.replace(least_letter,''))  #drop the leatt letter, and find the second least\n",
    "                    #if the letters are not in order within the abbreviation, exchnage them\n",
    "                    if second_least_index_count< least_index_count:                                             \n",
    "                        abb+= second_least_letter\n",
    "                        abb+= least_letter\n",
    "                    else:\n",
    "                        abb+= least_letter\n",
    "                        abb+= second_least_letter\n",
    "                    score+= least_letter_score + second_least_letter_score\n",
    "                \n",
    "    elif len(words)>= 3:                                                #Best case Scenario, handling names with 3 or more words\n",
    "        for word in words:                                              #for each of the words\n",
    "            abb +=word[0]                                               #slice out the first letter of each word and create an abbreviation\n",
    "            abb= abb[0:3]                                               #if abbreviation is longer than 3 letters, take the first three letters\n",
    "            score= 0                                                    #since the abbreviation letters are the first letters in each word in the name, score = 0 (condition in the question)\n",
    "\n",
    "    elif len(words)== 2 and len(name.replace(' ',''))== 3:              #Handling 2 words names with three letters like 'I AM' or 'AM I'\n",
    "        abb= name.replace(' ','')                                       #remove the space\n",
    "        for word in words:                                   \n",
    "            if len(word[0])== 1:                                        #like 'I AM'\n",
    "                if abb[-1]== 'E':                                       #score of 1st letter in each word =0, score of E as last = 20, score of last(if not E) = 5\n",
    "                    score=  20                                           \n",
    "                else:\n",
    "                    score=  5                                            \n",
    "            else:                                                       #like \"AM I\"\n",
    "                if abb[1]== 'E':\n",
    "                    score=  20                                          #score of 1st letter in each word =0, score of E as last = 20, score of last(if not E) = 5\n",
    "                else:\n",
    "                    score=  5\n",
    "                    \n",
    "    elif len(words)== 2:\n",
    "        abb +=words[0][0]                                                                               #get the 1st letter of the 1st word(value =0)\n",
    "        least_letter_tracker, least_score_tracker= least_score_checker_updated(name)                    #returns dicts containing each word and the least letter/ corrsp. score\n",
    "        least_letter_word= list(least_score_tracker.keys())[list(least_score_tracker.values()).index(min(least_score_tracker.values()))]        #keeps track of the word containing the least letter in the name/ dict\n",
    "        if least_letter_word == words[1]:                                                               #if the second word contains the letter with least score(then value of 1st letter in 2nd word =0)\n",
    "            abb+= words[1][0]\n",
    "            abb+= least_letter_tracker[least_letter_word]\n",
    "            score = least_score_tracker[least_letter_word]                                              #value = 0(1st letter from 1st word) + 0(1st letter from 2nd word) + least_score_tracker[least_letter_word]\n",
    "            # for word in words:\n",
    "            #     least_letter, least_letter_score= word_least_letter_checker(word)\n",
    "        elif least_letter_word == words[0]:                                                             #if the second word contains the letter with least score(then value of 1st letter in 2nd word =0)\n",
    "            abb+= least_letter_tracker[least_letter_word]\n",
    "            abb+= words[1][0]\n",
    "            score = least_score_tracker[least_letter_word]                                              #value = 0(1st letter from 1st word) + least_score_tracker[least_letter_word] + 0(1st letter from 2nd word)\n",
    "            \n",
    "\n",
    "    return(abb, score)\n"
   ]
  },
  {
   "cell_type": "code",
   "execution_count": 597,
   "metadata": {},
   "outputs": [
    {
     "data": {
      "text/plain": [
       "('ADR', 14)"
      ]
     },
     "execution_count": 597,
     "metadata": {},
     "output_type": "execute_result"
    }
   ],
   "source": [
    "thisword= 'ALDER'\n",
    "score = 0\n",
    "abbr= thisword[0]                                                                               #take the first letter\n",
    "least_letter, least_letter_score, least_index_count= word_least_letter_checker(thisword)        #get the least letter\n",
    "\n",
    "if least_letter == thisword[-1]:                                                                                        #if the least is the last letter\n",
    "    second_least_letter, second_least_letter_score, second_least_index_count= word_least_letter_checker(thisword[:-1])  #drop the last letter, and find the second least\n",
    "    abbr+= second_least_letter\n",
    "    abbr+= least_letter\n",
    "    score= least_letter_score + second_least_letter_score\n",
    "else:\n",
    "    second_least_letter, second_least_letter_score,second_least_index_count = word_least_letter_checker(thisword.replace(least_letter,''))  #drop the leatt letter, and find the second least\n",
    "    #if the letters are not in order within the abbreviation, exchnage them\n",
    "    if second_least_index_count< least_index_count:                                             \n",
    "        abbr+= second_least_letter\n",
    "        abbr+= least_letter\n",
    "    else:\n",
    "        abbr+= least_letter\n",
    "        abbr+= second_least_letter\n",
    "    score+= least_letter_score + second_least_letter_score\n",
    "\n",
    "abbr, score\n",
    "    "
   ]
  },
  {
   "cell_type": "code",
   "execution_count": 570,
   "metadata": {},
   "outputs": [
    {
     "data": {
      "text/plain": [
       "'LDER'"
      ]
     },
     "execution_count": 570,
     "metadata": {},
     "output_type": "execute_result"
    }
   ],
   "source": [
    "thisword\n",
    "thisword.replace(least_letter,'')"
   ]
  },
  {
   "cell_type": "code",
   "execution_count": 599,
   "metadata": {},
   "outputs": [
    {
     "name": "stdout",
     "output_type": "stream",
     "text": [
      "CRAB\n",
      "APPLE\n",
      "COMMON\n",
      "ASH\n",
      "SILVER\n",
      "BIRCH\n",
      "DOWNY\n",
      "BIRCH\n",
      "EUROPEAN\n",
      "BEECH\n",
      "WILD\n",
      "CHERRY\n",
      "BIRD\n",
      "CHERRY\n",
      "WYCH\n",
      "ELM\n",
      "COMMON\n",
      "HAWTHORN\n",
      "MIDLAND\n",
      "HAWTHORN\n",
      "COMMON\n",
      "HAZEL\n",
      "EUROPEAN\n",
      "HORNBEAM\n",
      "EUROPEAN\n",
      "HOLLY\n",
      "COMMON\n",
      "JUNIPER\n",
      "FIELD\n",
      "MAPLE\n",
      "PEDUNCULATE\n",
      "OAK\n",
      "SESSILE\n",
      "OAK\n",
      "SCOTS\n",
      "PINE\n",
      "BLACK\n",
      "POPLAR\n",
      "EUROPEAN\n",
      "ROWAN\n",
      "COMMON\n",
      "WHITEBEAM\n",
      "SERVICE\n",
      "TREE\n",
      "STRAWBERRY\n",
      "TREE\n",
      "BAY\n",
      "WILLOW\n",
      "CRACK\n",
      "WILLOW\n",
      "WHITE\n",
      "WILLOW\n",
      "EUROPEAN\n",
      "YEW\n",
      "ALDER\n",
      "BUCKTHORN\n",
      "PURGING\n",
      "BUCKTHORN\n",
      "COMMON\n",
      "DOGWOOD\n",
      "ROCK\n",
      "WHITEBEAM\n",
      "SEA\n",
      "BUCKTHORN\n",
      "GREY\n",
      "WILLOW\n",
      "PURPLE\n",
      "WILLOW\n",
      "COMMON\n",
      "OSIER\n",
      "EARED\n",
      "WILLOW\n",
      "GUELDER\n",
      "ROSE\n",
      "WAYFARING\n",
      "TREE\n",
      "COMMON\n",
      "PRIVET\n",
      "PLOTS\n",
      "ELM\n",
      "CI\n",
      "YU\n",
      "C\n",
      "CODE\n",
      "{'ALDER': {'ADR': 14}, 'CRAB APPLE': {'CBA': 5}, 'COMMON ASH': {'CNA': 5}, 'SILVER BIRCH': {'SRB': 5}, 'DOWNY BIRCH': {'DYB': 5}, 'EUROPEAN BEECH': {'ENB': 5}, 'BOX': {'BOX': 25}, 'WILD CHERRY': {'WDC': 5}, 'BIRD CHERRY': {'BDC': 5}, 'BLACKTHORN': {'BRN': 10}, 'WYCH ELM': {'WHE': 5}, 'SMOOTH LEAVED ELM': {'SLE': 0}, 'COMMON HAWTHORN': {'CNH': 5}, 'MIDLAND HAWTHORN': {'MDH': 5}, 'COMMON HAZEL': {'CHZ': 1}, 'EUROPEAN HORNBEAM': {'ENH': 5}, 'EUROPEAN HOLLY': {'ENH': 5}, 'COMMON JUNIPER': {'CNJ': 5}, 'SMALL LEAVED LIME': {'SLL': 0}, 'LARGE LEAVED LIME': {'LLL': 0}, 'FIELD MAPLE': {'FDM': 5}, 'PEDUNCULATE OAK': {'POK': 5}, 'SESSILE OAK': {'SOK': 5}, 'SCOTS PINE': {'SSP': 5}, 'ASPEN': {'APN': 13}, 'BLACK POPLAR': {'BKP': 5}, 'EUROPEAN ROWAN': {'ENR': 5}, 'COMMON WHITEBEAM': {'CNW': 5}, 'SERVICE TREE': {'SVT': 7}, 'WILD SERVICE TREE': {'WST': 0}, 'STRAWBERRY TREE': {'SYT': 5}, 'BAY WILLOW': {'BYW': 5}, 'CRACK WILLOW': {'CKW': 5}, 'WHITE WILLOW': {'WWW': 5}, 'ALMOND LEAVED WILLOW': {'ALW': 0}, 'EUROPEAN YEW': {'ENY': 5}, 'ALDER BUCKTHORN': {'ARB': 5}, 'PURGING BUCKTHORN': {'PGB': 5}, 'ELDER': {'EDR': 14}, 'COMMON DOGWOOD': {'CND': 5}, 'ROCK WHITEBEAM': {'RKW': 5}, 'SEA BUCKTHORN': {'SAB': 5}, 'SPINDLE': {'SDP': 16}, 'SALLOW': {'SOW': 10}, 'GREY WILLOW': {'GYW': 5}, 'PURPLE WILLOW': {'PWW': 5}, 'COMMON OSIER': {'CNO': 5}, 'EARED WILLOW': {'EDW': 5}, 'GUELDER ROSE': {'GRR': 5}, 'WAYFARING TREE': {'WGT': 5}, 'COMMON PRIVET': {'CNP': 5}, 'PLOTS ELM': {'PSE': 5}, 'WAYFARING TREE HOME BELOW': {'WTH': 0}, 'AS': {'': nan}, 'HE': {'': nan}, 'CI YU': {'CYU': 20}, 'C CODE': {'CCD': 9}, 'HUM': {'HUM': 25}, 'I AM': {'IAM': 5}, 'I ME': {'IME': 20}}\n"
     ]
    }
   ],
   "source": [
    "abbreviations_dic= {}\n",
    "for name in cleaned_names:\n",
    "   abb, score= nameAbbreviator(name)\n",
    "   abbreviations_dic[name]={abb: score}\n",
    "   #print(abb, score)\n",
    "print(abbreviations_dic)\n"
   ]
  },
  {
   "cell_type": "code",
   "execution_count": 161,
   "metadata": {},
   "outputs": [
    {
     "name": "stdout",
     "output_type": "stream",
     "text": [
      "['Q', 'Z', 'J', 'X', 'K', 'F', 'H', 'V', 'W', 'Y', 'B', 'C', 'M', 'P', 'D', 'G', 'L', 'N', 'R', 'S', 'T', 'O', 'U', 'A', 'I', 'E']\n"
     ]
    }
   ],
   "source": [
    "sorted_postn_keys= []\n",
    "for key in sorted_postn_values:\n",
    "    sorted_postn_keys.append(key)\n",
    "print(sorted_postn_keys)"
   ]
  },
  {
   "cell_type": "code",
   "execution_count": 319,
   "metadata": {},
   "outputs": [
    {
     "data": {
      "text/plain": [
       "'HORNBEAM'"
      ]
     },
     "execution_count": 319,
     "metadata": {},
     "output_type": "execute_result"
    }
   ],
   "source": [
    "theword"
   ]
  },
  {
   "cell_type": "code",
   "execution_count": 171,
   "metadata": {},
   "outputs": [
    {
     "name": "stdout",
     "output_type": "stream",
     "text": [
      "EUROPEAN P\n",
      "HORNBEAM M\n"
     ]
    }
   ],
   "source": [
    "check_word = 'EUROPEAN HORNBEAM'\n",
    "index_count= 0\n",
    "check_word_split = check_word.split() \n",
    "least_letter_score= check_word_split[0][1]\n",
    "for theword in check_word_split:\n",
    "    for letter in theword[1:]:\n",
    "        index_count=+1\n",
    "        if sorted_postn_values[letter] < sorted_postn_values[theword[index_count+1]]:                   #compares the current letter score with the next letter\n",
    "            #break down how the score is got if it is the last letter\n",
    "            # if letter == theword[-1]\n",
    "            least_letter_score = letter\n",
    "    print(theword,least_letter_score)"
   ]
  },
  {
   "cell_type": "code",
   "execution_count": 295,
   "metadata": {},
   "outputs": [],
   "source": [
    "def least_score_checker(name):\n",
    "    index_count= 0\n",
    "    least_letter_tracker= {}\n",
    "    least_score_tracker= {}\n",
    "    names_split = name.split() \n",
    "    for theword in names_split:                                 \n",
    "        least_letter= theword[1]                                              #defaults least letter to the second letter in the word\n",
    "        least_letter_score= sorted_postn_values[least_letter]                 #corresponding score of the word\n",
    "        index_count= 0                                                        #to track index of the letter (in the word) being checked\n",
    "        for letter in theword[1:]:                                      \n",
    "            index_count+=1\n",
    "            if sorted_postn_values[letter] < least_letter_score:              #if the current letter's score is lower than the established least score letter\n",
    "                #break down how the score is got if it is the last letter\n",
    "                # if letter == theword[-1]\n",
    "                least_letter= letter\n",
    "                print(theword,theword[index_count])\n",
    "                if least_letter == theword[-1] and theword[index_count]== theword[-1]:                      #if it is the least letter is the last letter\n",
    "                    if least_letter == 'E':\n",
    "                        least_letter_score= 20\n",
    "                        \n",
    "                    else: \n",
    "                        least_letter_score= 5\n",
    "                    least_score_tracker[theword]  = least_letter_score\n",
    "                else: \n",
    "                    #least_letter = letter\n",
    "                    least_letter_score= sorted_postn_values[letter]\n",
    "                    least_score_tracker[theword]  = least_letter_score\n",
    "            least_letter_tracker[theword]  = least_letter\n",
    "            #least_score_tracker[theword]  = least_letter_score\n",
    "    return(least_letter_tracker, least_score_tracker)"
   ]
  },
  {
   "cell_type": "code",
   "execution_count": 326,
   "metadata": {},
   "outputs": [],
   "source": [
    "letter_wt_scores_lower_E = []\n",
    "letter_wt_scores_lower_five = []\n",
    "for key in sorted_postn_values:\n",
    "    if sorted_postn_values[key] < 5:\n",
    "        letter_wt_scores_lower_five.append(key)\n",
    "\n",
    "for key in sorted_postn_values:\n",
    "    if sorted_postn_values[key] < 20:\n",
    "        letter_wt_scores_lower_E.append(key)\n",
    "    \n",
    "\n"
   ]
  },
  {
   "cell_type": "code",
   "execution_count": 340,
   "metadata": {},
   "outputs": [
    {
     "data": {
      "text/plain": [
       "['Q', 'Z', 'J', 'X']"
      ]
     },
     "execution_count": 340,
     "metadata": {},
     "output_type": "execute_result"
    }
   ],
   "source": [
    "letter_wt_scores_lower_five"
   ]
  },
  {
   "cell_type": "code",
   "execution_count": 421,
   "metadata": {},
   "outputs": [],
   "source": [
    "# def word_least_letter_checker(theword):                              \n",
    "#     least_letter= theword[1]                                              #defaults least letter to the second letter in the word\n",
    "#     least_letter_score= sorted_postn_values[least_letter]                 #corresponding score of the word\n",
    "#     index_count= 0                                                        #to track index of the letter (in the word) being checked\n",
    "#     running_least_score_dic= []\n",
    "#     for letter in theword[1:]:                                      \n",
    "#         index_count+=1\n",
    "#         if sorted_postn_values[letter] < least_letter_score:              #if the current letter's score is lower than the established least score letter\n",
    "#             least_letter= letter\n",
    "#             print(theword,theword[index_count])\n",
    "#             if least_letter== theword[-1]:                                #if the least is the last letter(value defaults to 5), check if there is letter with lower value than 5 and make it least\n",
    "#                 for letter in theword[1:-1]:\n",
    "#                     if sorted_postn_values[letter] < 5:\n",
    "#                         least_letter= letter                             \n",
    "#                         least_letter_score= sorted_postn_values[letter]\n",
    "#             elif sorted_postn_values[least_letter] > 5 and theword[-1]!= 'E':       #if the least letter is greater than 5 and the last letter is not E (if E it defaults to 20), make the last letter the least(defaults to 5) \n",
    "#                 least_letter= theword[-1]\n",
    "#                 least_letter_score= 5\n",
    "#             elif sorted_postn_values[least_letter] > 20 and theword[-1]== 'E':      ##if the least letter is greater than 20 and the last letter is E, make it the least (it defaults to 20) \n",
    "#                 least_letter = theword[-1]\n",
    "#                 least_letter_score= 20\n",
    "#             # if least_letter == theword[-1] and theword[index_count]== theword[-1]:                      #if it is the least letter is the last letter\n",
    "#             #     if least_letter == 'E':\n",
    "#             #         least_letter_score= 20\n",
    "#             #         #word_least_letter_checker(theword[:-1])\n",
    "#             #     else: \n",
    "#             #         least_letter_score= 5\n",
    "#             #         for letter in theword[:-1]:\n",
    "#             #             if letter in letter_wt_scores_lower_five and sorted_postn_values[letter] < least_letter_score:\n",
    "#             #                 least_letter= letter\n",
    "#             #                 least_letter_score= sorted_postn_values[letter]\n",
    "#             #     #least_score_tracker[theword]  = least_letter_score\n",
    "#             else: \n",
    "#                 least_letter_score= sorted_postn_values[letter]                     #else, use the value of the letter as it is the least\n",
    "#     return(least_letter, least_letter_score)"
   ]
  },
  {
   "cell_type": "code",
   "execution_count": 493,
   "metadata": {},
   "outputs": [],
   "source": [
    "# def least_score_checker_updated(name):\n",
    "#     #check_word = 'EUROPEAN HORNBEAM'\n",
    "#     index_count= 0\n",
    "#     least_letter_tracker= {}\n",
    "#     least_score_tracker= {}\n",
    "#     names_split = name\n",
    "#     #least_letter= names_split[0][1]\n",
    "#     #least_letter_score= sorted_postn_values[names_split[0][1]]\n",
    "#     for theword in names_split:\n",
    "#         print(theword)\n",
    "#         least_letter, least_letter_score= word_least_letter_checker(theword)\n",
    "#         least_score_tracker[theword]  = least_letter_score\n",
    "#         least_letter_tracker[theword]  = least_letter\n",
    "#     return (least_letter_tracker, least_score_tracker)"
   ]
  },
  {
   "cell_type": "code",
   "execution_count": 474,
   "metadata": {},
   "outputs": [
    {
     "name": "stdout",
     "output_type": "stream",
     "text": [
      "EURQOPEAN R\n",
      "EURQOPEAN Q\n",
      "HORNBEAM R\n",
      "HORNBEAM B\n",
      "HUGHHYQ G\n",
      "HUGHHYQ H\n",
      "HUGHHYQ Q\n"
     ]
    },
    {
     "data": {
      "text/plain": [
       "({'EURQOPEAN': 'Q', 'HORNBEAM': 'B', 'HUGHHYQ': 'Q'},\n",
       " {'EURQOPEAN': 1, 'HORNBEAM': 8, 'HUGHHYQ': 5})"
      ]
     },
     "execution_count": 474,
     "metadata": {},
     "output_type": "execute_result"
    }
   ],
   "source": [
    "least_score_checker('EURQOPEAN HORNBEAM HUGHHYQ')"
   ]
  },
  {
   "cell_type": "code",
   "execution_count": 494,
   "metadata": {},
   "outputs": [
    {
     "name": "stdout",
     "output_type": "stream",
     "text": [
      "HUGHXZHYQ\n",
      "HUGHXZHYQ G\n",
      "HUGHXZHYQ X\n",
      "HUGHXZHYQ Z\n",
      "HORNBEAM\n",
      "HORNBEAM R\n",
      "EURQOPEAN\n",
      "EURQOPEAN R\n",
      "EURQOPEAN Q\n",
      "EEEEAEE\n",
      "EEEEAEE A\n"
     ]
    },
    {
     "data": {
      "text/plain": [
       "({'HUGHXZHYQ': 'Z', 'HORNBEAM': 'M', 'EURQOPEAN': 'Q', 'EEEEAEE': 'E'},\n",
       " {'HUGHXZHYQ': 1, 'HORNBEAM': 5, 'EURQOPEAN': 1, 'EEEEAEE': 20})"
      ]
     },
     "execution_count": 494,
     "metadata": {},
     "output_type": "execute_result"
    }
   ],
   "source": [
    "least_letter_tracker, least_score_tracker= least_score_checker_updated('HUGHXZHYQ HORNBEAM EURQOPEAN EEEEAEE'.split())\n",
    "least_letter_tracker, least_score_tracker"
   ]
  },
  {
   "cell_type": "code",
   "execution_count": 459,
   "metadata": {},
   "outputs": [
    {
     "data": {
      "text/plain": [
       "'HUGHXZHYQ'"
      ]
     },
     "execution_count": 459,
     "metadata": {},
     "output_type": "execute_result"
    }
   ],
   "source": [
    "#print(list(mydict.keys())[list(mydict.values()).index(16)]) \n",
    "#list(least_score_tracker.keys())[(min(least_score_tracker.values()))] #Find the min value, then get the corresponding dictionary key by value. \n",
    "list(least_score_tracker.keys())[list(least_score_tracker.values()).index(min(least_score_tracker.values()))]"
   ]
  },
  {
   "cell_type": "code",
   "execution_count": 442,
   "metadata": {},
   "outputs": [
    {
     "data": {
      "text/plain": [
       "[<generator object <genexpr> at 0x10f3ba110>]"
      ]
     },
     "execution_count": 442,
     "metadata": {},
     "output_type": "execute_result"
    }
   ],
   "source": [
    "ls = []\n",
    "ls.append(lt for lt in 'EURQOPEAN HORNBEAM HUGHXZHYQ EEEEAEE')\n",
    "#foo.append(lambda x:x+1) \n",
    "#'EURQOPEAN HORNBEAM HUGHXZHYQ EEEEAEE'['HUGHXZHYQ']\n",
    "ls"
   ]
  },
  {
   "cell_type": "code",
   "execution_count": 417,
   "metadata": {},
   "outputs": [
    {
     "name": "stdout",
     "output_type": "stream",
     "text": [
      "False\n",
      "False\n",
      "False\n",
      "True\n",
      "False\n",
      "False\n",
      "False\n",
      "False\n",
      "True\n",
      "False\n"
     ]
    }
   ],
   "source": [
    "for lt in 'EURBQOPEAN'[:] : print(lt in ['A', 'B', 'C'])"
   ]
  },
  {
   "cell_type": "code",
   "execution_count": 543,
   "metadata": {},
   "outputs": [
    {
     "name": "stdout",
     "output_type": "stream",
     "text": [
      "CRAB\n",
      "CRAB R\n",
      "APPLE\n",
      "APPLE P\n",
      "COMMON\n",
      "COMMON O\n",
      "ASH\n",
      "ASH S\n",
      "SILVER\n",
      "SILVER I\n",
      "BIRCH\n",
      "BIRCH I\n",
      "DOWNY\n",
      "DOWNY O\n",
      "BIRCH\n",
      "BIRCH I\n",
      "EUROPEAN\n",
      "EUROPEAN U\n",
      "BEECH\n",
      "BEECH E\n",
      "WILD\n",
      "WILD I\n",
      "CHERRY\n",
      "CHERRY H\n",
      "BIRD\n",
      "BIRD I\n",
      "CHERRY\n",
      "CHERRY H\n",
      "WYCH\n",
      "WYCH Y\n",
      "ELM\n",
      "ELM L\n",
      "COMMON\n",
      "COMMON O\n",
      "HAWTHORN\n",
      "HAWTHORN A\n",
      "MIDLAND\n",
      "MIDLAND I\n",
      "HAWTHORN\n",
      "HAWTHORN A\n",
      "COMMON\n",
      "COMMON O\n",
      "HAZEL\n",
      "HAZEL A\n",
      "HAZEL Z\n",
      "EUROPEAN\n",
      "EUROPEAN U\n",
      "HORNBEAM\n",
      "HORNBEAM O\n",
      "EUROPEAN\n",
      "EUROPEAN U\n",
      "HOLLY\n",
      "HOLLY O\n",
      "COMMON\n",
      "COMMON O\n",
      "JUNIPER\n",
      "JUNIPER U\n",
      "FIELD\n",
      "FIELD I\n",
      "MAPLE\n",
      "MAPLE A\n",
      "MAPLE P\n",
      "PEDUNCULATE\n",
      "PEDUNCULATE E\n",
      "PEDUNCULATE D\n",
      "PEDUNCULATE C\n",
      "OAK\n",
      "OAK A\n",
      "SESSILE\n",
      "SESSILE E\n",
      "SESSILE S\n",
      "OAK\n",
      "OAK A\n",
      "SCOTS\n",
      "SCOTS C\n",
      "PINE\n",
      "PINE I\n",
      "PINE N\n",
      "BLACK\n",
      "BLACK L\n",
      "POPLAR\n",
      "POPLAR O\n",
      "EUROPEAN\n",
      "EUROPEAN U\n",
      "ROWAN\n",
      "ROWAN O\n",
      "COMMON\n",
      "COMMON O\n",
      "WHITEBEAM\n",
      "WHITEBEAM H\n",
      "SERVICE\n",
      "SERVICE E\n",
      "SERVICE R\n",
      "SERVICE V\n",
      "TREE\n",
      "TREE R\n",
      "STRAWBERRY\n",
      "STRAWBERRY T\n",
      "TREE\n",
      "TREE R\n",
      "BAY\n",
      "BAY A\n",
      "WILLOW\n",
      "WILLOW I\n",
      "CRACK\n",
      "CRACK R\n",
      "WILLOW\n",
      "WILLOW I\n",
      "WHITE\n",
      "WHITE H\n",
      "WILLOW\n",
      "WILLOW I\n",
      "EUROPEAN\n",
      "EUROPEAN U\n",
      "YEW\n",
      "YEW E\n",
      "ALDER\n",
      "ALDER L\n",
      "BUCKTHORN\n",
      "BUCKTHORN U\n",
      "PURGING\n",
      "PURGING U\n",
      "BUCKTHORN\n",
      "BUCKTHORN U\n",
      "COMMON\n",
      "COMMON O\n",
      "DOGWOOD\n",
      "DOGWOOD O\n",
      "ROCK\n",
      "ROCK O\n",
      "WHITEBEAM\n",
      "WHITEBEAM H\n",
      "SEA\n",
      "SEA E\n",
      "BUCKTHORN\n",
      "BUCKTHORN U\n",
      "GREY\n",
      "GREY R\n",
      "WILLOW\n",
      "WILLOW I\n",
      "PURPLE\n",
      "PURPLE U\n",
      "PURPLE R\n",
      "PURPLE P\n",
      "WILLOW\n",
      "WILLOW I\n",
      "COMMON\n",
      "COMMON O\n",
      "OSIER\n",
      "OSIER S\n",
      "EARED\n",
      "EARED A\n",
      "WILLOW\n",
      "WILLOW I\n",
      "GUELDER\n",
      "GUELDER U\n",
      "ROSE\n",
      "ROSE O\n",
      "ROSE S\n",
      "WAYFARING\n",
      "WAYFARING A\n",
      "TREE\n",
      "TREE R\n",
      "COMMON\n",
      "COMMON O\n",
      "PRIVET\n",
      "PRIVET R\n",
      "PLOTS\n",
      "PLOTS L\n",
      "ELM\n",
      "ELM L\n",
      "CI\n",
      "CI I\n",
      "YU\n",
      "YU U\n",
      "C\n",
      "CODE\n",
      "CODE O\n",
      "CODE D\n",
      "{'ALDER': {'': -1}, 'CRAB APPLE': {'CBA': 5}, 'COMMON ASH': {'CNA': 5}, 'SILVER BIRCH': {'SRB': 5}, 'DOWNY BIRCH': {'DYB': 5}, 'EUROPEAN BEECH': {'ENB': 5}, 'BOX': {'BOX': 25}, 'WILD CHERRY': {'WDC': 5}, 'BIRD CHERRY': {'BDC': 5}, 'BLACKTHORN': {'': -1}, 'WYCH ELM': {'WHE': 5}, 'SMOOTH LEAVED ELM': {'SLE': 0}, 'COMMON HAWTHORN': {'CNH': 5}, 'MIDLAND HAWTHORN': {'MDH': 5}, 'COMMON HAZEL': {'CHZ': 1}, 'EUROPEAN HORNBEAM': {'ENH': 5}, 'EUROPEAN HOLLY': {'ENH': 5}, 'COMMON JUNIPER': {'CNJ': 5}, 'SMALL LEAVED LIME': {'SLL': 0}, 'LARGE LEAVED LIME': {'LLL': 0}, 'FIELD MAPLE': {'FDM': 5}, 'PEDUNCULATE OAK': {'POK': 5}, 'SESSILE OAK': {'SOK': 5}, 'SCOTS PINE': {'SSP': 5}, 'ASPEN': {'': -1}, 'BLACK POPLAR': {'BKP': 5}, 'EUROPEAN ROWAN': {'ENR': 5}, 'COMMON WHITEBEAM': {'CNW': 5}, 'SERVICE TREE': {'SVT': 7}, 'WILD SERVICE TREE': {'WST': 0}, 'STRAWBERRY TREE': {'SYT': 5}, 'BAY WILLOW': {'BYW': 5}, 'CRACK WILLOW': {'CKW': 5}, 'WHITE WILLOW': {'WWW': 5}, 'ALMOND LEAVED WILLOW': {'ALW': 0}, 'EUROPEAN YEW': {'ENY': 5}, 'ALDER BUCKTHORN': {'ARB': 5}, 'PURGING BUCKTHORN': {'PGB': 5}, 'ELDER': {'': -1}, 'COMMON DOGWOOD': {'CND': 5}, 'ROCK WHITEBEAM': {'RKW': 5}, 'SEA BUCKTHORN': {'SAB': 5}, 'SPINDLE': {'': -1}, 'SALLOW': {'': -1}, 'GREY WILLOW': {'GYW': 5}, 'PURPLE WILLOW': {'PWW': 5}, 'COMMON OSIER': {'CNO': 5}, 'EARED WILLOW': {'EDW': 5}, 'GUELDER ROSE': {'GRR': 5}, 'WAYFARING TREE': {'WGT': 5}, 'COMMON PRIVET': {'CNP': 5}, 'PLOTS ELM': {'PSE': 5}, 'WAYFARING TREE HOME BELOW': {'WTH': 0}, 'AS': {'': nan}, 'HE': {'': nan}, 'CI YU': {'CIY': 1000}, 'C CODE': {'CCD': 9}, 'HUM': {'HUM': 25}, 'I AM': {'IAM': 5}, 'I ME': {'IME': 20}}\n"
     ]
    }
   ],
   "source": [
    "abbreviations_dic= {}\n",
    "for name in cleaned_names:\n",
    "   abb, score= nameAbbreviator(name)\n",
    "   abbreviations_dic[name]={abb: score}\n",
    "   #print(abb, score)\n",
    "print(abbreviations_dic)\n"
   ]
  },
  {
   "cell_type": "code",
   "execution_count": 40,
   "metadata": {},
   "outputs": [
    {
     "data": {
      "text/plain": [
       "{}"
      ]
     },
     "execution_count": 40,
     "metadata": {},
     "output_type": "execute_result"
    }
   ],
   "source": [
    "abbreviations_dic"
   ]
  },
  {
   "cell_type": "code",
   "execution_count": 284,
   "metadata": {},
   "outputs": [],
   "source": [
    "with open('Akwiwu-Uzoma_<input>_abbrevs.txt', 'w') as file:\n",
    "     file.write(json.dumps(output))"
   ]
  },
  {
   "cell_type": "code",
   "execution_count": null,
   "metadata": {},
   "outputs": [],
   "source": [
    "'''Search Algorithm'''\n",
    "for name in cleaned_names:\n",
    "    words=  name.split()                    #slipt each name into words\n",
    "    if len(words)>= 3 and  :                       #if the name has only one word\n",
    "        for word in words: \n",
    "            if "
   ]
  }
 ],
 "metadata": {
  "kernelspec": {
   "display_name": "Python 3.10.6 64-bit",
   "language": "python",
   "name": "python3"
  },
  "language_info": {
   "codemirror_mode": {
    "name": "ipython",
    "version": 3
   },
   "file_extension": ".py",
   "mimetype": "text/x-python",
   "name": "python",
   "nbconvert_exporter": "python",
   "pygments_lexer": "ipython3",
   "version": "3.10.6"
  },
  "orig_nbformat": 4,
  "vscode": {
   "interpreter": {
    "hash": "b0fa6594d8f4cbf19f97940f81e996739fb7646882a419484c72d19e05852a7e"
   }
  }
 },
 "nbformat": 4,
 "nbformat_minor": 2
}
